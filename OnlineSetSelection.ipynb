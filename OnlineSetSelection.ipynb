{
 "cells": [
  {
   "metadata": {},
   "cell_type": "markdown",
   "source": "*Data management course*",
   "id": "2ed9c22fdfc15953"
  },
  {
   "metadata": {
    "ExecuteTime": {
     "end_time": "2025-01-07T13:03:08.867570Z",
     "start_time": "2025-01-07T13:03:08.863823Z"
    }
   },
   "cell_type": "code",
   "source": [
    "from typing import List\n",
    "import math\n",
    "import heapq"
   ],
   "id": "b76aee18a81bda07",
   "outputs": [],
   "execution_count": 10
  },
  {
   "metadata": {
    "ExecuteTime": {
     "end_time": "2025-01-07T12:54:14.623029Z",
     "start_time": "2025-01-07T12:54:14.618092Z"
    }
   },
   "cell_type": "code",
   "source": [
    "class Item:\n",
    "    def __init__(self, name: str, category: int, score: float):\n",
    "        self.name = name\n",
    "        self.category= category\n",
    "        self.score = score\n",
    "\n",
    "    def __str__(self):\n",
    "        return f\"name={self.name}, category={self.category}, val={self.score}\"\n",
    "\n",
    "    def __le__(self, other):\n",
    "        return self.score <= other.val\n",
    "\n"
   ],
   "id": "9f4917ace2a268c6",
   "outputs": [],
   "execution_count": 7
  },
  {
   "cell_type": "code",
   "id": "initial_id",
   "metadata": {
    "collapsed": true,
    "ExecuteTime": {
     "end_time": "2025-01-07T12:54:16.962384Z",
     "start_time": "2025-01-07T12:54:16.956320Z"
    }
   },
   "source": [
    "def algo1(I: List[Item], K:int, d:int, floors:List[int], ceilings: List[int]) -> List[Item]:\n",
    "    \"\"\"\n",
    "    Diverse top-k selection from a sorted list.\n",
    "    Args:\n",
    "        I:          List of items sorted by score\n",
    "        K:          Number of items to select\n",
    "        d:          Number of categories\n",
    "        floors:     Constraints floor_i ≤ k_i for each i ∈ [1. . .d].\n",
    "        ceilings:   Constraints k_i ≤ ceil_i for each i ∈ [1. . .d].\n",
    "\n",
    "    Returns:\n",
    "        L top K  chosen items from list I.\n",
    "    \"\"\"\n",
    "    L = []\n",
    "    C = [0] * d\n",
    "    slack = K - sum(floors)\n",
    "    iterator = iter(I)\n",
    "    while len(L) < K:\n",
    "        x = next(iterator)\n",
    "        i = x.category\n",
    "        if C[i] < floors[i]:\n",
    "            L.append(x)\n",
    "            C[i] += 1\n",
    "        elif (C[i] < ceilings[i]) and (slack > 0):\n",
    "            L.append(x)\n",
    "            C[i] +=1\n",
    "            slack -= 1\n",
    "    return L\n"
   ],
   "outputs": [],
   "execution_count": 8
  },
  {
   "metadata": {},
   "cell_type": "code",
   "outputs": [],
   "execution_count": null,
   "source": [
    "def algo2(I: List[Item], K:int, d:int, floors:List[int], ceilings: List[int], items_per_category: List[int]) -> List[Item]:\n",
    "    \"\"\"\n",
    "    Diverse top-k selection from a sorted list.\n",
    "    Args:\n",
    "        I:                  Stream of items.\n",
    "        K:                  Number of items to select\n",
    "        d:                  Number of categories\n",
    "        floors:             Constraints floor_i ≤ k_i for each i ∈ [1. . .d].\n",
    "        ceilings:           Constraints k_i ≤ ceil_i for each i ∈ [1. . .d].\n",
    "        items_per_category: n_i for i ∈[1 . . .d].\n",
    "\n",
    "    Returns:\n",
    "        L top K  chosen items from list I.\n",
    "    \"\"\"\n",
    "    num_feasible_items = lambda : sum(items_per_category[i] - M[i] for i in range(len(items_per_category)))\n",
    "\n",
    "    N = len(I)\n",
    "    L = []\n",
    "    C = [0] * d\n",
    "    M = [0] * d\n",
    "    R = [math.floor(n / math.e) for n in items_per_category]\n",
    "    T_i = [[floor] for floor in floors]\n",
    "    slack = K - sum(floors)\n",
    "    r = math.floor(N / math.e)\n",
    "    T = [slack]\n",
    "    iterator = iter(I)\n",
    "    while len(L) < K:\n",
    "        x = next(iterator)\n",
    "        i = x.category\n",
    "        sum_m = sum(M)\n",
    "        if sum_m < r:\n",
    "            heapq.heappush(T, x)\n",
    "        if M[i] < R[i]:\n",
    "            heapq.heappush(T_i[i], x)\n",
    "        elif ((C[i] < floors[i]) and (x.score > T_i[i][0])) or items_per_category[i] - M[i] == floors[i] - C[i]:\n",
    "            L.append(x)\n",
    "            C[i] += 1\n",
    "        elif (sum_m >= r) and (x.score > T[0] and (C[i] < ceilings[i]) and (slack > 0)):\n",
    "            heapq.heappop(T)\n",
    "            L.append(x)\n",
    "            C[i] += 1\n",
    "            slack -= 1\n",
    "        elif (C[i] < ceilings[i]) and num_feasible_items() == K - len(L):\n",
    "            L.append(x)\n",
    "            C[i] += 1\n",
    "            slack -= 1\n",
    "        M[i] += 1\n",
    "    return L\n"
   ],
   "id": "51e377155368a9ab"
  }
 ],
 "metadata": {
  "kernelspec": {
   "display_name": "Python 3",
   "language": "python",
   "name": "python3"
  },
  "language_info": {
   "codemirror_mode": {
    "name": "ipython",
    "version": 2
   },
   "file_extension": ".py",
   "mimetype": "text/x-python",
   "name": "python",
   "nbconvert_exporter": "python",
   "pygments_lexer": "ipython2",
   "version": "2.7.6"
  }
 },
 "nbformat": 4,
 "nbformat_minor": 5
}
